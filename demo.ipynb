{
 "cells": [
  {
   "attachments": {},
   "cell_type": "markdown",
   "metadata": {},
   "source": [
    "# Forcria\n",
    "-----------------------------\n"
   ]
  },
  {
   "attachments": {},
   "cell_type": "markdown",
   "metadata": {},
   "source": [
    "## Importando bibliotecas"
   ]
  },
  {
   "cell_type": "code",
   "execution_count": 4,
   "metadata": {},
   "outputs": [],
   "source": [
    "from JogoDeForca import JogoDeForca\n",
    "import re\n",
    "import pandas as pd\n",
    "import random"
   ]
  },
  {
   "attachments": {},
   "cell_type": "markdown",
   "metadata": {},
   "source": [
    "## Criando o Jogador"
   ]
  },
  {
   "cell_type": "code",
   "execution_count": 5,
   "metadata": {},
   "outputs": [],
   "source": [
    "\n",
    "class Jogador():\n",
    "    #instanciando os atributos do jogador\n",
    "    def __init__(self, tamanho_palavra, content):\n",
    "        #dicionario com acertos e indices de cada acerto\n",
    "        self.acertos = {}\n",
    "        #string que contem todas as letras que foram erros\n",
    "        self.erros = \"\"\n",
    "        #tamanho da palavra a ser advinhada\n",
    "        self.tamanho_palavra = tamanho_palavra\n",
    "        #dicionário com a quantidade de palavras que cada letra aparece, de acordo com as palavras possiveis\n",
    "        self.dict_probabilidades_letra = {}\n",
    "        #regex que é utilizado para verificar se uma palavra corresponde as informações que já obtemos\n",
    "        self.regex = \"^\"+\"[a-z]\"*tamanho_palavra+\"$\"\n",
    "        #lista de palavras possiveis\n",
    "        self.palavras_possiveis = list(map(str.lower, content))\n",
    "        #string com letras tentadas\n",
    "        self.letras_tentadas = \"\"\n",
    "\n",
    "    #função responsável por atualizar o regex a partir das informações conhecidas\n",
    "    def atualiza_regex(self):\n",
    "        #caso nao tenha tentado nenhuma letra o padrao é [a-z] caso contrário o padrao utilizado para as letras que não sabemos é a negação de todas letras já tentadas\n",
    "        if self.letras_tentadas == \"\":\n",
    "            padrao = \"[a-z]\"\n",
    "        else:\n",
    "            padrao = \"[^\"+f\"{self.letras_tentadas}\"+\"]\"\n",
    "        lista = [padrao for i in range(self.tamanho_palavra)]\n",
    "        #adiciona no regex as letras acertadas\n",
    "        for letra,indices in self.acertos.items():\n",
    "            for indice in indices:\n",
    "                lista[indice] = letra\n",
    "        self.regex = \"^\"+\"\".join(lista)+\"$\"\n",
    "\n",
    "    #função responsável por atualizar lista de palavras possíveis.\n",
    "    def atualiza_base_de_palavras(self):\n",
    "        p_finais = []\n",
    "        #instancia o regex\n",
    "        regex = re.compile(self.regex)\n",
    "        #para cada palavra verifica se é correspondente com o regex, em caso afirmativo adiciona na lista de palavras possiveis\n",
    "        for palavra in self.palavras_possiveis:\n",
    "            if regex.search(palavra):\n",
    "                p_finais.append(palavra)\n",
    "        return p_finais\n",
    "    \n",
    "    #função responsável por determinar a letra a ser jogada\n",
    "    def escolhe_melhor_jogada(self):\n",
    "        melhor_letra = \"\"\n",
    "        maior_valor = 0\n",
    "        #para cada letra no dicionário de probabilidades verifica se é a letra com maior probabilidade\n",
    "        for letra in self.dict_probabilidades_letra:\n",
    "            #verifica se a letra ainda não foi tentada\n",
    "            if self.dict_probabilidades_letra[letra] >= maior_valor and letra not in self.letras_tentadas:\n",
    "                maior_valor = self.dict_probabilidades_letra[letra]\n",
    "                melhor_letra = letra\n",
    "        self.letras_tentadas += melhor_letra\n",
    "        #retorna a letra com maior probabilidade\n",
    "        return melhor_letra\n",
    "\n",
    "    #função que atualiza o dicionário de acertos\n",
    "    def atualiza_dict_acertos(self, letra, lista_acertos):\n",
    "        #adiciona no dicionario caso a lista de indices acertados seja diferente de []\n",
    "        if lista_acertos != []:\n",
    "            self.acertos[letra] = lista_acertos\n",
    "        #caso contrário adiciona na string de erros\n",
    "        else:\n",
    "            self.erros += letra\n",
    "    \n",
    "    #atualiza a probabilidade de cada letra\n",
    "    def atualiza_probabilidades(self):\n",
    "        alfabeto = \"abcdefghijklmnopqrstuvwxyz\"\n",
    "        dict = {letra : 0 for letra in alfabeto}\n",
    "        #para cada letra do alfabeto adiciona um no seu contador caso ela apareça em uma palavra\n",
    "        for palavra in self.palavras_possiveis:\n",
    "            letras_ja_adicionadas = \"\"\n",
    "            for letra in palavra.lower():\n",
    "                if letra not in letras_ja_adicionadas:\n",
    "                    dict[letra] += 1\n",
    "                    letras_ja_adicionadas += letra\n",
    "        return dict\n",
    "    \n",
    "    #função que realiza a jogada toda\n",
    "    def jogada(self, letra, lista_acertos):\n",
    "        #atualiza o dicionário de acertos\n",
    "        self.atualiza_dict_acertos(letra, lista_acertos)\n",
    "        #atualiza o regex com base no dicionario atualizado\n",
    "        self.atualiza_regex()\n",
    "        #atualiza as palavras possiveis com base no regex atualizado\n",
    "        self.palavras_possiveis = self.atualiza_base_de_palavras()\n",
    "        #atualiza a probabilidade de cada letra com base na lista de palavras\n",
    "        self.dict_probabilidades_letra = self.atualiza_probabilidades()\n",
    "        #escolhe a melhor jogada em relação as probabilidades de cada letra\n",
    "        return self.escolhe_melhor_jogada()\n",
    "\n",
    "    \n"
   ]
  },
  {
   "attachments": {},
   "cell_type": "markdown",
   "metadata": {},
   "source": [
    "### Lógica de decisão do Jogador : \n",
    "_____________\n",
    "\n",
    "No processo de escolha de letras para o palpite, utilizamos a lógica de uma árvore de decisão, que favorece a seleção da letra que apresenta maior frequência dentre as palavras elegíveis para chute, levando em consideração a presença unitária da letra em cada uma das palavras. Com isso, o jogador sempre opta por chutar a letra que possui maior probabilidade de estar presente na palavra a ser adivinhada.\n",
    "\n",
    "Essa estratégia visa maximizar as chances de acerto e minimizar as possibilidades de perda de vidas, possibilitando a adivinhação de mais letras e suas respectivas posições. Além disso, a seleção da letra com maior frequência nos permite eliminar as palavras que não possuem tal letra, o que ajuda a aproximar ainda mais o palpite do resultado correto."
   ]
  },
  {
   "attachments": {},
   "cell_type": "markdown",
   "metadata": {},
   "source": [
    "## Instanciando o Jogador\n",
    "E realizando as partidas"
   ]
  },
  {
   "cell_type": "code",
   "execution_count": 6,
   "metadata": {},
   "outputs": [
    {
     "name": "stdout",
     "output_type": "stream",
     "text": [
      "Quantidade de vitorias: 95\n",
      "Quantidade de derrotas: 5\n",
      "Lista com os chutes errados: [['adubava', ['abusava', 'acenava', 'acusava', 'adubava', 'afetava', 'agucava', 'ajudava', 'anexava', 'apegava', 'apenava', 'asseava', 'autuava', 'azedava']], ['labora', ['labora', 'majora']], ['cobrei', ['cobrei', 'honrei', 'logrei']], ['rico', ['rico', 'rido', 'rifo', 'rijo']], ['sara', ['dara', 'fara', 'iara', 'sara', 'tara']]]\n"
     ]
    }
   ],
   "source": [
    "#inicializando a quantidade de vitorias e derrotas e a lista de derrotas\n",
    "qtd_vitorias = 0\n",
    "qtd_derrotas = 0\n",
    "lista_derroatas = []\n",
    "#cria o jogo 100 vezes\n",
    "for i in range(100):\n",
    "    #inicializa o jogo de forca (Desenvolvido pelo professor)\n",
    "    jogo = JogoDeForca()\n",
    "    tamanho_palavra = jogo.novo_jogo()\n",
    "    #var inicial recebe a palavra esperada\n",
    "    inicial = jogo.palavra\n",
    "    #inicializa o jogador\n",
    "    jogador = Jogador(tamanho_palavra, jogo.content)\n",
    "    letra = \"\"\n",
    "    #lista de acertos que receberá o feedback do \"juiz\"\n",
    "    lista_acertos = []\n",
    "    terminou = False\n",
    "    # loop que realiza as jogadas enquanto a quantidade de vidas é maior ou igual a 1.\n",
    "    while terminou == False and jogo.vidas >= 1:\n",
    "        #letra chutada pelo algortimo\n",
    "        letra = jogador.jogada(letra,lista_acertos)\n",
    "        #caso a lista de palavras possiveis só tenha uma palavra\n",
    "        if len(set(jogador.palavras_possiveis)) == 1: \n",
    "            #chuta a palavra\n",
    "            chute = jogador.palavras_possiveis[0]\n",
    "            j = jogo.tentar_palavra(chute)\n",
    "            #caso tenha acertado a palavra\n",
    "            if j:\n",
    "                #caso tenha ganhado aumenta a quantidade de vitórias\n",
    "                qtd_vitorias += 1\n",
    "            #caso tenha errado a palavra\n",
    "            else:\n",
    "                terminou = True\n",
    "                chute = jogador.palavras_possiveis\n",
    "                qtd_derrotas += 1\n",
    "                lista_derroatas.append([inicial,chute])\n",
    "            terminou = True\n",
    "            break\n",
    "        #caso contrário\n",
    "        else:\n",
    "            #caso o tamanho da lista de palavras possiveis seja maior que 1, o algortimo tenta uma letra.\n",
    "            lista_acertos = jogo.tentar_letra(letra)\n",
    "            #caso tenha errado a letra e as vidas tenham acabado\n",
    "            if lista_acertos == False:\n",
    "                terminou = True\n",
    "                chute = jogador.palavras_possiveis\n",
    "                qtd_derrotas += 1\n",
    "                lista_derroatas.append([inicial,chute])\n",
    "    \n",
    "print(f\"Quantidade de vitorias: {qtd_vitorias}\")\n",
    "print(f\"Quantidade de derrotas: {qtd_derrotas}\")\n",
    "#(formato: [palavra, lista_de_palavras_possíveis]) \n",
    "print(f\"Lista com os chutes errados: {lista_derroatas}\")\n",
    "\n",
    "dict = {\"erros\": lista_derroatas}\n",
    "df = pd.DataFrame(dict)\n",
    "df.to_csv(\"erros.csv\")"
   ]
  },
  {
   "attachments": {},
   "cell_type": "markdown",
   "metadata": {},
   "source": [
    "## Resultados\n",
    "\n",
    "\n",
    "Ao utilizar a técnica descrita, é possível alcançar uma acurácia superior a 90% nas partidas de forca, tendo em vista que a estratégia favorece a escolha da letra com maior frequência entre as palavras elegíveis para chute. Entretanto, é importante destacar que essa abordagem pode apresentar dificuldades em palavras pequenas com grande variabilidade nas letras restantes, uma vez que a estratégia pode não ser capaz de eliminar palavras o suficiente para chegar ao resultado correto como caso da palavra 'rico' que tem as seguintes variações : 'rico', 'rido', 'rifo', 'rijo'.\n",
    "\n",
    "Nesse sentido, é necessário considerar que a eficácia da técnica está relacionada à disponibilidade de informações precisas sobre as palavras elegíveis para chute, o que pode ser limitado em algumas situações. Além disso, é importante ressaltar que outros fatores, como a complexidade e a diversidade do vocabulário utilizado nas palavras a serem adivinhadas, também podem influenciar na acurácia da estratégia.\n",
    "\n",
    "Portanto, apesar de apresentar resultados promissores, é fundamental avaliar cuidadosamente as limitações e as possíveis variações do método, a fim de garantir uma abordagem mais robusta e eficaz para a adivinhação de palavras no jogo de forca."
   ]
  }
 ],
 "metadata": {
  "kernelspec": {
   "display_name": "Python 3",
   "language": "python",
   "name": "python3"
  },
  "language_info": {
   "codemirror_mode": {
    "name": "ipython",
    "version": 3
   },
   "file_extension": ".py",
   "mimetype": "text/x-python",
   "name": "python",
   "nbconvert_exporter": "python",
   "pygments_lexer": "ipython3",
   "version": "3.10.2"
  },
  "orig_nbformat": 4
 },
 "nbformat": 4,
 "nbformat_minor": 2
}
